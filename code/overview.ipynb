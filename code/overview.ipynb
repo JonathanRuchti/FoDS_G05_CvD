{
 "cells": [
  {
   "metadata": {},
   "cell_type": "markdown",
   "source": [
    "Trying Jupyter Notebook because I kinda like it. \\n Still figuring out how this works. \\n\n",
    "In this file I'll try to create some good overview of our data"
   ],
   "id": "74382fac49f72a02"
  },
  {
   "metadata": {
    "collapsed": true,
    "ExecuteTime": {
     "end_time": "2025-04-01T07:36:37.634949Z",
     "start_time": "2025-04-01T07:36:37.629272Z"
    }
   },
   "cell_type": "code",
   "source": [
    "import numpy as np\n",
    "import matplotlib.pyplot as plt\n",
    "import pandas as pd\n",
    "import scipy.stats as sts\n",
    "import seaborn as sns\n"
   ],
   "id": "initial_id",
   "outputs": [],
   "execution_count": 2
  },
  {
   "metadata": {},
   "cell_type": "markdown",
   "source": "Importing the data. More information: https://www.kaggle.com/datasets/sulianova/cardiovascular-disease-dataset/data\n",
   "id": "8bbe124c64be29c5"
  },
  {
   "metadata": {
    "ExecuteTime": {
     "end_time": "2025-04-01T07:37:14.275927Z",
     "start_time": "2025-04-01T07:37:14.137025Z"
    }
   },
   "cell_type": "code",
   "source": [
    "data = pd.read_csv(\n",
    "        filepath_or_buffer=\"../data/2025_cardio_train.csv\",\n",
    "        index_col=0,\n",
    "        na_filter=False,\n",
    "        dtype = {\"gender\": \"category\",\n",
    "                 \"cholesterol\": \"category\",\n",
    "                 \"gluc\": \"category\",\n",
    "                 \"smoke\": \"category\",\n",
    "                 \"alco\": \"category\",\n",
    "                 \"active\": \"category\",\n",
    "                 \"cardio\": \"category\",\n",
    "        }\n",
    ")\n",
    "data[\"cholesterol\"] = data[\"cholesterol\"].cat.as_ordered()\n",
    "data[\"gluc\"] = data[\"gluc\"].cat.as_ordered()\n"
   ],
   "id": "aeadd7eb34555280",
   "outputs": [],
   "execution_count": 11
  },
  {
   "metadata": {},
   "cell_type": "markdown",
   "source": "Output test like in Hw02:",
   "id": "2d0ec7212562e70d"
  },
  {
   "metadata": {
    "ExecuteTime": {
     "end_time": "2025-04-01T07:37:17.585240Z",
     "start_time": "2025-04-01T07:37:17.567711Z"
    }
   },
   "cell_type": "code",
   "source": [
    "data[\"cholesterol\"] = data[\"cholesterol\"].cat.as_ordered()\n",
    "data[\"gluc\"] = data[\"gluc\"].cat.as_ordered()\n",
    "for var in data.columns:\n",
    "    print(f\"Variable {var} in type {data[var].dtype} with {data[var].nunique()} unique values \")\n",
    "    if data[var].dtype == \"category\":\n",
    "        print(f\"| is it ordered?   {data[var].cat.ordered}\")\n",
    "print(f\"Cholesterol: {data[\"cholesterol\"].unique()}\")\n",
    "print(f\"Gluc: {data['gluc'].unique()}\")\n"
   ],
   "id": "1714d6bc7e8de93d",
   "outputs": [
    {
     "name": "stdout",
     "output_type": "stream",
     "text": [
      "Variable age in type int64 with 8076 unique values \n",
      "Variable gender in type category with 2 unique values \n",
      "| is it ordered?   False\n",
      "Variable height in type int64 with 109 unique values \n",
      "Variable weight in type float64 with 287 unique values \n",
      "Variable ap_hi in type int64 with 153 unique values \n",
      "Variable ap_lo in type int64 with 157 unique values \n",
      "Variable cholesterol in type category with 3 unique values \n",
      "| is it ordered?   True\n",
      "Variable gluc in type category with 3 unique values \n",
      "| is it ordered?   True\n",
      "Variable smoke in type category with 2 unique values \n",
      "| is it ordered?   False\n",
      "Variable alco in type category with 2 unique values \n",
      "| is it ordered?   False\n",
      "Variable active in type category with 2 unique values \n",
      "| is it ordered?   False\n",
      "Variable cardio in type category with 2 unique values \n",
      "| is it ordered?   False\n",
      "Cholesterol: ['1', '3', '2']\n",
      "Categories (3, object): ['1' < '2' < '3']\n",
      "Gluc: ['1', '2', '3']\n",
      "Categories (3, object): ['1' < '2' < '3']\n"
     ]
    }
   ],
   "execution_count": 12
  },
  {
   "metadata": {},
   "cell_type": "markdown",
   "source": "There is no missing data!!!!! :)))) Yeyyyy",
   "id": "b928577a0936dd53"
  },
  {
   "metadata": {
    "ExecuteTime": {
     "end_time": "2025-04-01T07:45:06.518095Z",
     "start_time": "2025-04-01T07:45:06.508983Z"
    }
   },
   "cell_type": "code",
   "source": "data.isna().sum()",
   "id": "cc49b67e8247665f",
   "outputs": [
    {
     "data": {
      "text/plain": [
       "age            0\n",
       "gender         0\n",
       "height         0\n",
       "weight         0\n",
       "ap_hi          0\n",
       "ap_lo          0\n",
       "cholesterol    0\n",
       "gluc           0\n",
       "smoke          0\n",
       "alco           0\n",
       "active         0\n",
       "cardio         0\n",
       "dtype: int64"
      ]
     },
     "execution_count": 30,
     "metadata": {},
     "output_type": "execute_result"
    }
   ],
   "execution_count": 30
  },
  {
   "metadata": {},
   "cell_type": "markdown",
   "source": "General overview:",
   "id": "ebaad12b0b7f6dfe"
  },
  {
   "metadata": {
    "ExecuteTime": {
     "end_time": "2025-04-01T07:56:55.900631Z",
     "start_time": "2025-04-01T07:56:55.845728Z"
    }
   },
   "cell_type": "code",
   "source": [
    "data.describe()\n",
    "\n"
   ],
   "id": "691669eabd97fd3b",
   "outputs": [
    {
     "data": {
      "text/plain": [
       "                age        height        weight         ap_hi         ap_lo\n",
       "count  70000.000000  70000.000000  70000.000000  70000.000000  70000.000000\n",
       "mean   19468.865814    164.359229     74.205690    128.817286     96.630414\n",
       "std     2467.251667      8.210126     14.395757    154.011419    188.472530\n",
       "min    10798.000000     55.000000     10.000000   -150.000000    -70.000000\n",
       "25%    17664.000000    159.000000     65.000000    120.000000     80.000000\n",
       "50%    19703.000000    165.000000     72.000000    120.000000     80.000000\n",
       "75%    21327.000000    170.000000     82.000000    140.000000     90.000000\n",
       "max    23713.000000    250.000000    200.000000  16020.000000  11000.000000"
      ],
      "text/html": [
       "<div>\n",
       "<style scoped>\n",
       "    .dataframe tbody tr th:only-of-type {\n",
       "        vertical-align: middle;\n",
       "    }\n",
       "\n",
       "    .dataframe tbody tr th {\n",
       "        vertical-align: top;\n",
       "    }\n",
       "\n",
       "    .dataframe thead th {\n",
       "        text-align: right;\n",
       "    }\n",
       "</style>\n",
       "<table border=\"1\" class=\"dataframe\">\n",
       "  <thead>\n",
       "    <tr style=\"text-align: right;\">\n",
       "      <th></th>\n",
       "      <th>age</th>\n",
       "      <th>height</th>\n",
       "      <th>weight</th>\n",
       "      <th>ap_hi</th>\n",
       "      <th>ap_lo</th>\n",
       "    </tr>\n",
       "  </thead>\n",
       "  <tbody>\n",
       "    <tr>\n",
       "      <th>count</th>\n",
       "      <td>70000.000000</td>\n",
       "      <td>70000.000000</td>\n",
       "      <td>70000.000000</td>\n",
       "      <td>70000.000000</td>\n",
       "      <td>70000.000000</td>\n",
       "    </tr>\n",
       "    <tr>\n",
       "      <th>mean</th>\n",
       "      <td>19468.865814</td>\n",
       "      <td>164.359229</td>\n",
       "      <td>74.205690</td>\n",
       "      <td>128.817286</td>\n",
       "      <td>96.630414</td>\n",
       "    </tr>\n",
       "    <tr>\n",
       "      <th>std</th>\n",
       "      <td>2467.251667</td>\n",
       "      <td>8.210126</td>\n",
       "      <td>14.395757</td>\n",
       "      <td>154.011419</td>\n",
       "      <td>188.472530</td>\n",
       "    </tr>\n",
       "    <tr>\n",
       "      <th>min</th>\n",
       "      <td>10798.000000</td>\n",
       "      <td>55.000000</td>\n",
       "      <td>10.000000</td>\n",
       "      <td>-150.000000</td>\n",
       "      <td>-70.000000</td>\n",
       "    </tr>\n",
       "    <tr>\n",
       "      <th>25%</th>\n",
       "      <td>17664.000000</td>\n",
       "      <td>159.000000</td>\n",
       "      <td>65.000000</td>\n",
       "      <td>120.000000</td>\n",
       "      <td>80.000000</td>\n",
       "    </tr>\n",
       "    <tr>\n",
       "      <th>50%</th>\n",
       "      <td>19703.000000</td>\n",
       "      <td>165.000000</td>\n",
       "      <td>72.000000</td>\n",
       "      <td>120.000000</td>\n",
       "      <td>80.000000</td>\n",
       "    </tr>\n",
       "    <tr>\n",
       "      <th>75%</th>\n",
       "      <td>21327.000000</td>\n",
       "      <td>170.000000</td>\n",
       "      <td>82.000000</td>\n",
       "      <td>140.000000</td>\n",
       "      <td>90.000000</td>\n",
       "    </tr>\n",
       "    <tr>\n",
       "      <th>max</th>\n",
       "      <td>23713.000000</td>\n",
       "      <td>250.000000</td>\n",
       "      <td>200.000000</td>\n",
       "      <td>16020.000000</td>\n",
       "      <td>11000.000000</td>\n",
       "    </tr>\n",
       "  </tbody>\n",
       "</table>\n",
       "</div>"
      ]
     },
     "execution_count": 32,
     "metadata": {},
     "output_type": "execute_result"
    }
   ],
   "execution_count": 32
  },
  {
   "metadata": {
    "ExecuteTime": {
     "end_time": "2025-04-01T07:57:16.304218Z",
     "start_time": "2025-04-01T07:57:16.283360Z"
    }
   },
   "cell_type": "code",
   "source": "data.tail(5)",
   "id": "e24b7701eb619958",
   "outputs": [
    {
     "data": {
      "text/plain": [
       "         age gender  height  weight  ap_hi  ap_lo cholesterol gluc smoke alco  \\\n",
       "id                                                                              \n",
       "99993  19240      2     168    76.0    120     80           1    1     1    0   \n",
       "99995  22601      1     158   126.0    140     90           2    2     0    0   \n",
       "99996  19066      2     183   105.0    180     90           3    1     0    1   \n",
       "99998  22431      1     163    72.0    135     80           1    2     0    0   \n",
       "99999  20540      1     170    72.0    120     80           2    1     0    0   \n",
       "\n",
       "      active cardio  \n",
       "id                   \n",
       "99993      1      0  \n",
       "99995      1      1  \n",
       "99996      0      1  \n",
       "99998      0      1  \n",
       "99999      1      0  "
      ],
      "text/html": [
       "<div>\n",
       "<style scoped>\n",
       "    .dataframe tbody tr th:only-of-type {\n",
       "        vertical-align: middle;\n",
       "    }\n",
       "\n",
       "    .dataframe tbody tr th {\n",
       "        vertical-align: top;\n",
       "    }\n",
       "\n",
       "    .dataframe thead th {\n",
       "        text-align: right;\n",
       "    }\n",
       "</style>\n",
       "<table border=\"1\" class=\"dataframe\">\n",
       "  <thead>\n",
       "    <tr style=\"text-align: right;\">\n",
       "      <th></th>\n",
       "      <th>age</th>\n",
       "      <th>gender</th>\n",
       "      <th>height</th>\n",
       "      <th>weight</th>\n",
       "      <th>ap_hi</th>\n",
       "      <th>ap_lo</th>\n",
       "      <th>cholesterol</th>\n",
       "      <th>gluc</th>\n",
       "      <th>smoke</th>\n",
       "      <th>alco</th>\n",
       "      <th>active</th>\n",
       "      <th>cardio</th>\n",
       "    </tr>\n",
       "    <tr>\n",
       "      <th>id</th>\n",
       "      <th></th>\n",
       "      <th></th>\n",
       "      <th></th>\n",
       "      <th></th>\n",
       "      <th></th>\n",
       "      <th></th>\n",
       "      <th></th>\n",
       "      <th></th>\n",
       "      <th></th>\n",
       "      <th></th>\n",
       "      <th></th>\n",
       "      <th></th>\n",
       "    </tr>\n",
       "  </thead>\n",
       "  <tbody>\n",
       "    <tr>\n",
       "      <th>99993</th>\n",
       "      <td>19240</td>\n",
       "      <td>2</td>\n",
       "      <td>168</td>\n",
       "      <td>76.0</td>\n",
       "      <td>120</td>\n",
       "      <td>80</td>\n",
       "      <td>1</td>\n",
       "      <td>1</td>\n",
       "      <td>1</td>\n",
       "      <td>0</td>\n",
       "      <td>1</td>\n",
       "      <td>0</td>\n",
       "    </tr>\n",
       "    <tr>\n",
       "      <th>99995</th>\n",
       "      <td>22601</td>\n",
       "      <td>1</td>\n",
       "      <td>158</td>\n",
       "      <td>126.0</td>\n",
       "      <td>140</td>\n",
       "      <td>90</td>\n",
       "      <td>2</td>\n",
       "      <td>2</td>\n",
       "      <td>0</td>\n",
       "      <td>0</td>\n",
       "      <td>1</td>\n",
       "      <td>1</td>\n",
       "    </tr>\n",
       "    <tr>\n",
       "      <th>99996</th>\n",
       "      <td>19066</td>\n",
       "      <td>2</td>\n",
       "      <td>183</td>\n",
       "      <td>105.0</td>\n",
       "      <td>180</td>\n",
       "      <td>90</td>\n",
       "      <td>3</td>\n",
       "      <td>1</td>\n",
       "      <td>0</td>\n",
       "      <td>1</td>\n",
       "      <td>0</td>\n",
       "      <td>1</td>\n",
       "    </tr>\n",
       "    <tr>\n",
       "      <th>99998</th>\n",
       "      <td>22431</td>\n",
       "      <td>1</td>\n",
       "      <td>163</td>\n",
       "      <td>72.0</td>\n",
       "      <td>135</td>\n",
       "      <td>80</td>\n",
       "      <td>1</td>\n",
       "      <td>2</td>\n",
       "      <td>0</td>\n",
       "      <td>0</td>\n",
       "      <td>0</td>\n",
       "      <td>1</td>\n",
       "    </tr>\n",
       "    <tr>\n",
       "      <th>99999</th>\n",
       "      <td>20540</td>\n",
       "      <td>1</td>\n",
       "      <td>170</td>\n",
       "      <td>72.0</td>\n",
       "      <td>120</td>\n",
       "      <td>80</td>\n",
       "      <td>2</td>\n",
       "      <td>1</td>\n",
       "      <td>0</td>\n",
       "      <td>0</td>\n",
       "      <td>1</td>\n",
       "      <td>0</td>\n",
       "    </tr>\n",
       "  </tbody>\n",
       "</table>\n",
       "</div>"
      ]
     },
     "execution_count": 34,
     "metadata": {},
     "output_type": "execute_result"
    }
   ],
   "execution_count": 34
  },
  {
   "metadata": {},
   "cell_type": "markdown",
   "source": "Insight into blood pressure: There are some values that are impossibly high",
   "id": "cb8b97b498c85bb5"
  },
  {
   "metadata": {
    "ExecuteTime": {
     "end_time": "2025-04-01T07:58:53.517260Z",
     "start_time": "2025-04-01T07:58:53.507126Z"
    }
   },
   "cell_type": "code",
   "source": [
    "#Nr of systole pressures higher than 300\n",
    "print(data[data[\"ap_hi\"] > 500][\"ap_hi\"].count())\n",
    "#Nr of diastole pressures higher than 300\n",
    "print(data[data[\"ap_lo\"] > 500][\"ap_lo\"].count())"
   ],
   "id": "1a9ee2079d73dfc0",
   "outputs": [
    {
     "name": "stdout",
     "output_type": "stream",
     "text": [
      "38\n",
      "953\n"
     ]
    }
   ],
   "execution_count": 35
  },
  {
   "metadata": {},
   "cell_type": "markdown",
   "source": "",
   "id": "a4c819c10d8b4c5d"
  },
  {
   "metadata": {},
   "cell_type": "markdown",
   "source": "Some plots:",
   "id": "11dcd944e409da4a"
  },
  {
   "metadata": {
    "ExecuteTime": {
     "end_time": "2025-04-01T07:44:02.503623Z",
     "start_time": "2025-04-01T07:44:02.330829Z"
    }
   },
   "cell_type": "code",
   "source": [
    "plt.figure(figsize = (8,8))\n",
    "plot1 = sns.displot(x = \"gender\",\n",
    "                    hue = \"gender\",\n",
    "                    data = data,)\n",
    "plot1.set_xlabel = \"Gender\"\n",
    "plot1.set_ylabel = \"Count\"\n",
    "plt.show()\n"
   ],
   "id": "f829203e1b9b95bc",
   "outputs": [
    {
     "data": {
      "text/plain": [
       "<Figure size 800x800 with 0 Axes>"
      ]
     },
     "metadata": {},
     "output_type": "display_data"
    },
    {
     "data": {
      "text/plain": [
       "<Figure size 557.75x500 with 1 Axes>"
      ],
      "image/png": "[encoded data removed]"
     },
     "metadata": {},
     "output_type": "display_data"
    }
   ],
   "execution_count": 26
  }
 ],
 "metadata": {
  "kernelspec": {
   "display_name": "Python 3",
   "language": "python",
   "name": "python3"
  },
  "language_info": {
   "codemirror_mode": {
    "name": "ipython",
    "version": 2
   },
   "file_extension": ".py",
   "mimetype": "text/x-python",
   "name": "python",
   "nbconvert_exporter": "python",
   "pygments_lexer": "ipython2",
   "version": "2.7.6"
  }
 },
 "nbformat": 4,
 "nbformat_minor": 5
}
